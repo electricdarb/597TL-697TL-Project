{
  "nbformat": 4,
  "nbformat_minor": 0,
  "metadata": {
    "interpreter": {
      "hash": "63fd5069d213b44bf678585dea6b12cceca9941eaf7f819626cde1f2670de90d"
    },
    "kernelspec": {
      "display_name": "Python 3.9.6 64-bit (system)",
      "name": "python3"
    },
    "language_info": {
      "codemirror_mode": {
        "name": "ipython",
        "version": 3
      },
      "file_extension": ".py",
      "mimetype": "text/x-python",
      "name": "python",
      "nbconvert_exporter": "python",
      "pygments_lexer": "ipython3",
      "version": "3.9.6"
    },
    "orig_nbformat": 4,
    "colab": {
      "name": "custom_grad_test.ipynb",
      "provenance": []
    },
    "widgets": {
      "application/vnd.jupyter.widget-state+json": {
        "2337331aa23f451e899ec399485fce5b": {
          "model_module": "@jupyter-widgets/controls",
          "model_name": "HBoxModel",
          "model_module_version": "1.5.0",
          "state": {
            "_view_name": "HBoxView",
            "_dom_classes": [],
            "_model_name": "HBoxModel",
            "_view_module": "@jupyter-widgets/controls",
            "_model_module_version": "1.5.0",
            "_view_count": null,
            "_view_module_version": "1.5.0",
            "box_style": "",
            "layout": "IPY_MODEL_df79264de73e44578e462834721bb80c",
            "_model_module": "@jupyter-widgets/controls",
            "children": [
              "IPY_MODEL_93434c7a2e08470c947190a355e11d67",
              "IPY_MODEL_717f513fe30a4ad897f4061a4020d649",
              "IPY_MODEL_369a6cda25154072a46ab24d2e41bce5"
            ]
          }
        },
        "df79264de73e44578e462834721bb80c": {
          "model_module": "@jupyter-widgets/base",
          "model_name": "LayoutModel",
          "model_module_version": "1.2.0",
          "state": {
            "_view_name": "LayoutView",
            "grid_template_rows": null,
            "right": null,
            "justify_content": null,
            "_view_module": "@jupyter-widgets/base",
            "overflow": null,
            "_model_module_version": "1.2.0",
            "_view_count": null,
            "flex_flow": null,
            "width": null,
            "min_width": null,
            "border": null,
            "align_items": null,
            "bottom": null,
            "_model_module": "@jupyter-widgets/base",
            "top": null,
            "grid_column": null,
            "overflow_y": null,
            "overflow_x": null,
            "grid_auto_flow": null,
            "grid_area": null,
            "grid_template_columns": null,
            "flex": null,
            "_model_name": "LayoutModel",
            "justify_items": null,
            "grid_row": null,
            "max_height": null,
            "align_content": null,
            "visibility": null,
            "align_self": null,
            "height": null,
            "min_height": null,
            "padding": null,
            "grid_auto_rows": null,
            "grid_gap": null,
            "max_width": null,
            "order": null,
            "_view_module_version": "1.2.0",
            "grid_template_areas": null,
            "object_position": null,
            "object_fit": null,
            "grid_auto_columns": null,
            "margin": null,
            "display": null,
            "left": null
          }
        },
        "93434c7a2e08470c947190a355e11d67": {
          "model_module": "@jupyter-widgets/controls",
          "model_name": "HTMLModel",
          "model_module_version": "1.5.0",
          "state": {
            "_view_name": "HTMLView",
            "style": "IPY_MODEL_bd8bce4684294c109ef1e15820afed8b",
            "_dom_classes": [],
            "description": "",
            "_model_name": "HTMLModel",
            "placeholder": "​",
            "_view_module": "@jupyter-widgets/controls",
            "_model_module_version": "1.5.0",
            "value": "Dl Completed...: 100%",
            "_view_count": null,
            "_view_module_version": "1.5.0",
            "description_tooltip": null,
            "_model_module": "@jupyter-widgets/controls",
            "layout": "IPY_MODEL_d60fcefdb03c474798870312bd31521f"
          }
        },
        "717f513fe30a4ad897f4061a4020d649": {
          "model_module": "@jupyter-widgets/controls",
          "model_name": "FloatProgressModel",
          "model_module_version": "1.5.0",
          "state": {
            "_view_name": "ProgressView",
            "style": "IPY_MODEL_589eec51d6e54d5cade76a99509b94b7",
            "_dom_classes": [],
            "description": "",
            "_model_name": "FloatProgressModel",
            "bar_style": "success",
            "max": 4,
            "_view_module": "@jupyter-widgets/controls",
            "_model_module_version": "1.5.0",
            "value": 4,
            "_view_count": null,
            "_view_module_version": "1.5.0",
            "orientation": "horizontal",
            "min": 0,
            "description_tooltip": null,
            "_model_module": "@jupyter-widgets/controls",
            "layout": "IPY_MODEL_af33a261334a458693bfb87cd29e044e"
          }
        },
        "369a6cda25154072a46ab24d2e41bce5": {
          "model_module": "@jupyter-widgets/controls",
          "model_name": "HTMLModel",
          "model_module_version": "1.5.0",
          "state": {
            "_view_name": "HTMLView",
            "style": "IPY_MODEL_39bf4deb81a74353aa5381ba45205866",
            "_dom_classes": [],
            "description": "",
            "_model_name": "HTMLModel",
            "placeholder": "​",
            "_view_module": "@jupyter-widgets/controls",
            "_model_module_version": "1.5.0",
            "value": " 4/4 [00:00&lt;00:00,  7.58 file/s]",
            "_view_count": null,
            "_view_module_version": "1.5.0",
            "description_tooltip": null,
            "_model_module": "@jupyter-widgets/controls",
            "layout": "IPY_MODEL_9b066f81db68494a92e2d4c0283f8b4a"
          }
        },
        "bd8bce4684294c109ef1e15820afed8b": {
          "model_module": "@jupyter-widgets/controls",
          "model_name": "DescriptionStyleModel",
          "model_module_version": "1.5.0",
          "state": {
            "_view_name": "StyleView",
            "_model_name": "DescriptionStyleModel",
            "description_width": "",
            "_view_module": "@jupyter-widgets/base",
            "_model_module_version": "1.5.0",
            "_view_count": null,
            "_view_module_version": "1.2.0",
            "_model_module": "@jupyter-widgets/controls"
          }
        },
        "d60fcefdb03c474798870312bd31521f": {
          "model_module": "@jupyter-widgets/base",
          "model_name": "LayoutModel",
          "model_module_version": "1.2.0",
          "state": {
            "_view_name": "LayoutView",
            "grid_template_rows": null,
            "right": null,
            "justify_content": null,
            "_view_module": "@jupyter-widgets/base",
            "overflow": null,
            "_model_module_version": "1.2.0",
            "_view_count": null,
            "flex_flow": null,
            "width": null,
            "min_width": null,
            "border": null,
            "align_items": null,
            "bottom": null,
            "_model_module": "@jupyter-widgets/base",
            "top": null,
            "grid_column": null,
            "overflow_y": null,
            "overflow_x": null,
            "grid_auto_flow": null,
            "grid_area": null,
            "grid_template_columns": null,
            "flex": null,
            "_model_name": "LayoutModel",
            "justify_items": null,
            "grid_row": null,
            "max_height": null,
            "align_content": null,
            "visibility": null,
            "align_self": null,
            "height": null,
            "min_height": null,
            "padding": null,
            "grid_auto_rows": null,
            "grid_gap": null,
            "max_width": null,
            "order": null,
            "_view_module_version": "1.2.0",
            "grid_template_areas": null,
            "object_position": null,
            "object_fit": null,
            "grid_auto_columns": null,
            "margin": null,
            "display": null,
            "left": null
          }
        },
        "589eec51d6e54d5cade76a99509b94b7": {
          "model_module": "@jupyter-widgets/controls",
          "model_name": "ProgressStyleModel",
          "model_module_version": "1.5.0",
          "state": {
            "_view_name": "StyleView",
            "_model_name": "ProgressStyleModel",
            "description_width": "",
            "_view_module": "@jupyter-widgets/base",
            "_model_module_version": "1.5.0",
            "_view_count": null,
            "_view_module_version": "1.2.0",
            "bar_color": null,
            "_model_module": "@jupyter-widgets/controls"
          }
        },
        "af33a261334a458693bfb87cd29e044e": {
          "model_module": "@jupyter-widgets/base",
          "model_name": "LayoutModel",
          "model_module_version": "1.2.0",
          "state": {
            "_view_name": "LayoutView",
            "grid_template_rows": null,
            "right": null,
            "justify_content": null,
            "_view_module": "@jupyter-widgets/base",
            "overflow": null,
            "_model_module_version": "1.2.0",
            "_view_count": null,
            "flex_flow": null,
            "width": null,
            "min_width": null,
            "border": null,
            "align_items": null,
            "bottom": null,
            "_model_module": "@jupyter-widgets/base",
            "top": null,
            "grid_column": null,
            "overflow_y": null,
            "overflow_x": null,
            "grid_auto_flow": null,
            "grid_area": null,
            "grid_template_columns": null,
            "flex": null,
            "_model_name": "LayoutModel",
            "justify_items": null,
            "grid_row": null,
            "max_height": null,
            "align_content": null,
            "visibility": null,
            "align_self": null,
            "height": null,
            "min_height": null,
            "padding": null,
            "grid_auto_rows": null,
            "grid_gap": null,
            "max_width": null,
            "order": null,
            "_view_module_version": "1.2.0",
            "grid_template_areas": null,
            "object_position": null,
            "object_fit": null,
            "grid_auto_columns": null,
            "margin": null,
            "display": null,
            "left": null
          }
        },
        "39bf4deb81a74353aa5381ba45205866": {
          "model_module": "@jupyter-widgets/controls",
          "model_name": "DescriptionStyleModel",
          "model_module_version": "1.5.0",
          "state": {
            "_view_name": "StyleView",
            "_model_name": "DescriptionStyleModel",
            "description_width": "",
            "_view_module": "@jupyter-widgets/base",
            "_model_module_version": "1.5.0",
            "_view_count": null,
            "_view_module_version": "1.2.0",
            "_model_module": "@jupyter-widgets/controls"
          }
        },
        "9b066f81db68494a92e2d4c0283f8b4a": {
          "model_module": "@jupyter-widgets/base",
          "model_name": "LayoutModel",
          "model_module_version": "1.2.0",
          "state": {
            "_view_name": "LayoutView",
            "grid_template_rows": null,
            "right": null,
            "justify_content": null,
            "_view_module": "@jupyter-widgets/base",
            "overflow": null,
            "_model_module_version": "1.2.0",
            "_view_count": null,
            "flex_flow": null,
            "width": null,
            "min_width": null,
            "border": null,
            "align_items": null,
            "bottom": null,
            "_model_module": "@jupyter-widgets/base",
            "top": null,
            "grid_column": null,
            "overflow_y": null,
            "overflow_x": null,
            "grid_auto_flow": null,
            "grid_area": null,
            "grid_template_columns": null,
            "flex": null,
            "_model_name": "LayoutModel",
            "justify_items": null,
            "grid_row": null,
            "max_height": null,
            "align_content": null,
            "visibility": null,
            "align_self": null,
            "height": null,
            "min_height": null,
            "padding": null,
            "grid_auto_rows": null,
            "grid_gap": null,
            "max_width": null,
            "order": null,
            "_view_module_version": "1.2.0",
            "grid_template_areas": null,
            "object_position": null,
            "object_fit": null,
            "grid_auto_columns": null,
            "margin": null,
            "display": null,
            "left": null
          }
        }
      }
    }
  },
  "cells": [
    {
      "cell_type": "code",
      "metadata": {
        "id": "g5UDzDuzOLu3"
      },
      "source": [
        "import numpy as np\n",
        "import tensorflow as tf\n",
        "from tensorflow.keras.optimizers import Adam\n",
        "from tensorflow.keras.layers import *\n",
        "import tensorflow_datasets as tfds\n",
        "from time import time\n",
        "import matplotlib.pyplot as plt \n",
        "tf.config.run_functions_eagerly(True)"
      ],
      "execution_count": 1,
      "outputs": []
    },
    {
      "cell_type": "code",
      "metadata": {
        "id": "PSGVJCZ0UnTW",
        "outputId": "c2f3d3ff-4ea0-446f-a0f4-fed984a637e7",
        "colab": {
          "base_uri": "https://localhost:8080/"
        }
      },
      "source": [
        "%matplotlib inline\n",
        "\n",
        "try:\n",
        "  import google.colab\n",
        "  IN_COLAB = True\n",
        "except:\n",
        "  IN_COLAB = False\n",
        "\n",
        "if IN_COLAB:\n",
        "    !pip install tvm\n",
        "else:\n",
        "    print(\"Notebook executing locally, skipping Colab setup ...\")"
      ],
      "execution_count": 69,
      "outputs": [
        {
          "output_type": "stream",
          "name": "stdout",
          "text": [
            "Collecting tvm\n",
            "  Downloading tvm-1.0.0.tar.gz (5.4 kB)\n",
            "Requirement already satisfied: appdirs in /usr/local/lib/python3.7/dist-packages (from tvm) (1.4.4)\n",
            "Requirement already satisfied: docopt in /usr/local/lib/python3.7/dist-packages (from tvm) (0.6.2)\n",
            "Collecting inform\n",
            "  Downloading inform-1.26.0-py3-none-any.whl (47 kB)\n",
            "\u001b[K     |████████████████████████████████| 47 kB 2.3 MB/s \n",
            "\u001b[?25hCollecting quantiphy\n",
            "  Downloading quantiphy-2.15.0-py3-none-any.whl (34 kB)\n",
            "Requirement already satisfied: six in /usr/local/lib/python3.7/dist-packages (from inform->tvm) (1.15.0)\n",
            "Collecting arrow\n",
            "  Downloading arrow-1.2.1-py3-none-any.whl (63 kB)\n",
            "\u001b[K     |████████████████████████████████| 63 kB 2.0 MB/s \n",
            "\u001b[?25hRequirement already satisfied: python-dateutil>=2.7.0 in /usr/local/lib/python3.7/dist-packages (from arrow->inform->tvm) (2.8.2)\n",
            "Requirement already satisfied: typing-extensions in /usr/local/lib/python3.7/dist-packages (from arrow->inform->tvm) (3.7.4.3)\n",
            "Building wheels for collected packages: tvm\n",
            "  Building wheel for tvm (setup.py) ... \u001b[?25l\u001b[?25hdone\n",
            "  Created wheel for tvm: filename=tvm-1.0.0-py3-none-any.whl size=5101 sha256=8ca58b2291a69e9fb0df5f02433f531b908a5b7b2641dea6a4ab2ff0e09c724f\n",
            "  Stored in directory: /root/.cache/pip/wheels/2a/39/5e/4c2cdaa05641090b45744676013760972b6903d8e4a481b664\n",
            "Successfully built tvm\n",
            "Installing collected packages: arrow, quantiphy, inform, tvm\n",
            "Successfully installed arrow-1.2.1 inform-1.26.0 quantiphy-2.15.0 tvm-1.0.0\n"
          ]
        }
      ]
    },
    {
      "cell_type": "code",
      "metadata": {
        "id": "olWj7gzCUQPv"
      },
      "source": [
        "import tvm"
      ],
      "execution_count": 70,
      "outputs": []
    },
    {
      "cell_type": "code",
      "metadata": {
        "id": "z8Cpy5sDUmrd"
      },
      "source": [
        ""
      ],
      "execution_count": null,
      "outputs": []
    },
    {
      "cell_type": "code",
      "metadata": {
        "id": "z558U4xGOLu6"
      },
      "source": [
        "\n",
        "def zero_mask(shape, zero_indices):\n",
        "    \"\"\"\n",
        "    inputs:\n",
        "        shape: shape of matrix, ei (channels, filters, kernals, x_dims, y_dims)\n",
        "        zero_indices: list of tuples that specify indexes to be masked to 0, ei [(row, col, channel, filter)]\n",
        "            if zero_indices is equal to [(r, col, ch, f)] then mask[r, col, ch, f] will be set to 0\n",
        "    instance variables\n",
        "    \"\"\"\n",
        "    mask = np.ones(shape)\n",
        "    for index in zero_indices:\n",
        "        mask[index] = 0.\n",
        "    return mask"
      ],
      "execution_count": 2,
      "outputs": []
    },
    {
      "cell_type": "code",
      "metadata": {
        "id": "e-hydB19OLu6"
      },
      "source": [
        "def pattern_maker(filters, patterns, pattern_freq, kernel_size = (3,3)): #channels is limited to one here, make more robust \n",
        "    channel = 0\n",
        "    assert filters == sum(pattern_freq)\n",
        "    zero_indices = []\n",
        "    filter_n = 0\n",
        "    for pattern, freq in zip(patterns, pattern_freq):\n",
        "        for i in range(kernel_size[0]):\n",
        "            for j in range(kernel_size[1]):\n",
        "                if pattern[i][j] == 0.:\n",
        "                    for _ in range(freq):\n",
        "                        zero_indices.append((i, j, channel, filter_n + _))\n",
        "        filter_n += freq\n",
        "        \n",
        "    return zero_indices\n",
        "\n",
        "patterns = [[[0, 1, 0], [0, 1, 1], [0, 1, 0]],\n",
        "            [[0, 1, 0], [1, 1, 1], [0, 0, 0]], \n",
        "            [[0, 0, 0], [1, 1, 1], [0, 1, 0]],\n",
        "            [[0, 1, 0], [1, 1, 0], [0, 1, 0]], \n",
        "            [[1, 0, 0], [1, 1, 0], [1, 0, 0]],\n",
        "            [[1, 1, 0], [0, 1, 0], [0, 1, 0]],\n",
        "            [[0, 0, 1], [0, 1, 1], [0, 0, 1]],\n",
        "            [[1, 1, 1], [0, 1, 0], [0, 0, 0]],\n",
        "           [[0, 0, 0], [0, 1, 0], [1, 1, 1]],\n",
        "           [[0, 0, 1], [0, 1, 0], [1, 0, 1]]]\n",
        "pattern_freq = [4]*10\n",
        "zero_indices = pattern_maker(4*10, patterns, pattern_freq)\n",
        "mask = zero_mask(shape = (3, 3, 1, 40), zero_indices = zero_indices)\n"
      ],
      "execution_count": 3,
      "outputs": []
    },
    {
      "cell_type": "code",
      "metadata": {
        "id": "6FrQCsQuOLu7",
        "outputId": "b1ca2302-a0fc-4294-98de-f9b7856d9e61",
        "colab": {
          "base_uri": "https://localhost:8080/",
          "height": 243,
          "referenced_widgets": [
            "2337331aa23f451e899ec399485fce5b",
            "df79264de73e44578e462834721bb80c",
            "93434c7a2e08470c947190a355e11d67",
            "717f513fe30a4ad897f4061a4020d649",
            "369a6cda25154072a46ab24d2e41bce5",
            "bd8bce4684294c109ef1e15820afed8b",
            "d60fcefdb03c474798870312bd31521f",
            "589eec51d6e54d5cade76a99509b94b7",
            "af33a261334a458693bfb87cd29e044e",
            "39bf4deb81a74353aa5381ba45205866",
            "9b066f81db68494a92e2d4c0283f8b4a"
          ]
        }
      },
      "source": [
        "batch_size = 64\n",
        "(ds_train, ds_test), ds_info = tfds.load(\n",
        "    'mnist',\n",
        "    split=['train', 'test'],\n",
        "    shuffle_files=True,\n",
        "    as_supervised=True,\n",
        "    with_info=True,\n",
        ")\n",
        "def normalize_img(image, label):\n",
        "  \"\"\"Normalizes images: `uint8` -> `float32`.\"\"\"\n",
        "  return tf.cast(image, tf.float32) / 255., label\n",
        "\n",
        "ds_train = ds_train.map(\n",
        "    normalize_img, num_parallel_calls=tf.data.AUTOTUNE)\n",
        "ds_train = ds_train.cache()\n",
        "ds_train = ds_train.shuffle(ds_info.splits['train'].num_examples)\n",
        "ds_train = ds_train.batch(batch_size)\n",
        "ds_train = ds_train.prefetch(tf.data.AUTOTUNE)\n",
        "\n",
        "ds_test = ds_test.map(\n",
        "    normalize_img, num_parallel_calls=tf.data.AUTOTUNE)\n",
        "ds_test = ds_test.batch(batch_size)\n",
        "ds_test = ds_test.cache()\n",
        "ds_test = ds_test.prefetch(tf.data.AUTOTUNE)"
      ],
      "execution_count": 4,
      "outputs": [
        {
          "output_type": "stream",
          "name": "stdout",
          "text": [
            "\u001b[1mDownloading and preparing dataset mnist/3.0.1 (download: 11.06 MiB, generated: 21.00 MiB, total: 32.06 MiB) to /root/tensorflow_datasets/mnist/3.0.1...\u001b[0m\n"
          ]
        },
        {
          "output_type": "stream",
          "name": "stderr",
          "text": [
            "WARNING:absl:Dataset mnist is hosted on GCS. It will automatically be downloaded to your\n",
            "local data directory. If you'd instead prefer to read directly from our public\n",
            "GCS bucket (recommended if you're running on GCP), you can instead pass\n",
            "`try_gcs=True` to `tfds.load` or set `data_dir=gs://tfds-data/datasets`.\n",
            "\n"
          ]
        },
        {
          "output_type": "display_data",
          "data": {
            "application/vnd.jupyter.widget-view+json": {
              "model_id": "2337331aa23f451e899ec399485fce5b",
              "version_minor": 0,
              "version_major": 2
            },
            "text/plain": [
              "Dl Completed...:   0%|          | 0/4 [00:00<?, ? file/s]"
            ]
          },
          "metadata": {}
        },
        {
          "output_type": "stream",
          "name": "stdout",
          "text": [
            "\n",
            "\u001b[1mDataset mnist downloaded and prepared to /root/tensorflow_datasets/mnist/3.0.1. Subsequent calls will reuse this data.\u001b[0m\n"
          ]
        },
        {
          "output_type": "stream",
          "name": "stderr",
          "text": [
            "/usr/local/lib/python3.7/dist-packages/tensorflow/python/data/ops/dataset_ops.py:4212: UserWarning: Even though the `tf.config.experimental_run_functions_eagerly` option is set, this option does not apply to tf.data functions. To force eager execution of tf.data functions, please use `tf.data.experimental.enable_debug_mode()`.\n",
            "  \"Even though the `tf.config.experimental_run_functions_eagerly` \"\n"
          ]
        }
      ]
    },
    {
      "cell_type": "markdown",
      "metadata": {
        "id": "TkJ01-x0OLu8"
      },
      "source": [
        ""
      ]
    },
    {
      "cell_type": "code",
      "metadata": {
        "id": "KhW6nDcCOLu9"
      },
      "source": [
        "class IregConv2D(tf.keras.layers.Layer): # still needs to figure out backprop, keep kernal wieghts at 0!!.\n",
        "    def __init__(self, zero_mask, strides = 1, padding = \"SAME\", *args, **kwargs):\n",
        "        super(IregConv2D, self).__init__()\n",
        "        if type(strides) == int:\n",
        "            strides = [1, strides, strides, 1]\n",
        "        @tf.custom_gradient\n",
        "        def conv2d_override(x, filters, strides, padding, data_format='NHWC', dilations=None, name=None):\n",
        "            y = tf.nn.conv2d(x, filters, strides = strides, padding = \"SAME\", data_format='NHWC', dilations=None, name=None)\n",
        "            def grad(upstream):\n",
        "                grads = tf.compat.v1.nn.conv2d_backprop_filter(x, zero_mask.shape, out_backprop = upstream, strides = strides, padding = \"SAME\", data_format='NHWC', dilations=None, name=None)\n",
        "                dydx = tf.compat.v1.nn.conv2d_backprop_input(tf.shape(x), filter = filters, out_backprop = upstream, strides = strides, padding = \"SAME\", data_format='NHWC', dilations=None, name=None)\n",
        "                return dydx, tf.multiply(grads, self.zero_mask), None, None, None, None, None\n",
        "            return y, grad\n",
        "        \n",
        "        self.zero_mask = tf.cast(zero_mask, dtype = tf.float32)\n",
        "        self.strides = strides\n",
        "        self.padding = padding\n",
        "\n",
        "        w_init = tf.keras.initializers.HeNormal()\n",
        "        w = w_init(shape = zero_mask.shape, dtype = 'float32') #note the sloppy zero_mask.shape // change this\n",
        "        #self.b = self.add_weight(shape = zero_mask.shape[2:], initializer=\"he_normal\", trainable=True) # sloppy, change this \n",
        "        w = tf.multiply(self.zero_mask, w)\n",
        "        self.w = tf.Variable(initial_value=w, trainable=True)\n",
        "        self.conv = conv2d_override\n",
        "    \n",
        "    def call(self, x):\n",
        "        return self.conv(x, self.w, self.strides, self.padding)\n",
        "    def get_conv(self):\n",
        "        return self.conv"
      ],
      "execution_count": 44,
      "outputs": []
    },
    {
      "cell_type": "markdown",
      "metadata": {
        "id": "ChaxizvROLu9"
      },
      "source": [
        ""
      ]
    },
    {
      "cell_type": "code",
      "metadata": {
        "id": "zxnuhTbmOLu-"
      },
      "source": [
        "class TestNet(tf.keras.Model):\n",
        "    def __init__(self):\n",
        "        super(TestNet, self).__init__()\n",
        "        self.conv = IregConv2D(mask)\n",
        "        self.relu1 = ReLU()\n",
        "        self.flatten = Flatten()\n",
        "        self.dense = Dense(32, activation = 'relu')\n",
        "        self.head = Dense(10, activation = 'softmax')\n",
        "        \n",
        "    def call(self, x):\n",
        "        x = self.conv(x)\n",
        "        x = self.relu1(x)\n",
        "        x = self.flatten(x)\n",
        "        x = self.dense(x)\n",
        "        x = self.head(x)\n",
        "        return x"
      ],
      "execution_count": 45,
      "outputs": []
    },
    {
      "cell_type": "code",
      "metadata": {
        "id": "z5t3l1unOLu_"
      },
      "source": [
        "class BaseNet(tf.keras.Model):\n",
        "    def __init__(self):\n",
        "        super(BaseNet, self).__init__()\n",
        "        self.conv = Conv2D(filters = 40, kernel_size = (3, 3), activation = 'relu')\n",
        "        self.flatten = Flatten()\n",
        "        self.dense = Dense(32, activation = 'relu')\n",
        "        self.head = Dense(10, activation = 'softmax')\n",
        "    \n",
        "    def call(self, x):\n",
        "        x = self.conv(x)\n",
        "        x = self.flatten(x)\n",
        "        x = self.dense(x)\n",
        "        x = self.head(x)\n",
        "        return x"
      ],
      "execution_count": 46,
      "outputs": []
    },
    {
      "cell_type": "code",
      "metadata": {
        "id": "718gGLQtOLu_"
      },
      "source": [
        "ireg_model = TestNet()\n",
        "reg_model = BaseNet()\n",
        "num_epochs = 1\n",
        "lr = 0.001"
      ],
      "execution_count": 47,
      "outputs": []
    },
    {
      "cell_type": "code",
      "metadata": {
        "id": "_g1V9lL8OLu_",
        "outputId": "fd293b3f-9808-4919-a901-06efb132f3e0",
        "colab": {
          "base_uri": "https://localhost:8080/"
        }
      },
      "source": [
        "ireg_model.compile(optimizer=tf.keras.optimizers.Adam(learning_rate = lr),\n",
        "              loss=tf.keras.losses.SparseCategoricalCrossentropy(from_logits=False),\n",
        "              metrics=[tf.keras.metrics.SparseCategoricalAccuracy()])\n",
        "\n",
        "ireg_history = ireg_model.fit(ds_train, epochs = num_epochs, validation_data = ds_test, verbose = 1)"
      ],
      "execution_count": 49,
      "outputs": [
        {
          "output_type": "stream",
          "name": "stdout",
          "text": [
            "938/938 [==============================] - 64s 69ms/step - loss: 0.0947 - sparse_categorical_accuracy: 0.9713 - val_loss: 0.0694 - val_sparse_categorical_accuracy: 0.9788\n"
          ]
        }
      ]
    },
    {
      "cell_type": "code",
      "metadata": {
        "id": "VnZC84-POLvA",
        "outputId": "0954f074-4db7-4efb-e843-46fdfb34f752",
        "colab": {
          "base_uri": "https://localhost:8080/"
        }
      },
      "source": [
        "reg_model.compile(optimizer=tf.keras.optimizers.Adam(learning_rate = lr),\n",
        "              loss=tf.keras.losses.SparseCategoricalCrossentropy(from_logits=False),\n",
        "              metrics=[ tf.keras.metrics.SparseCategoricalAccuracy()])\n",
        "\n",
        "reg_history = reg_model.fit(ds_train, epochs = num_epochs, validation_data = ds_test, verbose = 2)"
      ],
      "execution_count": 50,
      "outputs": [
        {
          "output_type": "stream",
          "name": "stdout",
          "text": [
            "938/938 - 53s - loss: 0.2144 - sparse_categorical_accuracy: 0.9366 - val_loss: 0.1044 - val_sparse_categorical_accuracy: 0.9695\n"
          ]
        }
      ]
    },
    {
      "cell_type": "code",
      "metadata": {
        "id": "LcwE-QDYVgKI"
      },
      "source": [
        "tvm_ds = ds_test.as_numpy_iterator()\n",
        "ds_ = tvm_ds.next()[0][0]"
      ],
      "execution_count": 61,
      "outputs": []
    },
    {
      "cell_type": "code",
      "metadata": {
        "id": "uJP_O67HXEHS"
      },
      "source": [
        "import tvm.relay as relay"
      ],
      "execution_count": 72,
      "outputs": []
    },
    {
      "cell_type": "markdown",
      "metadata": {
        "id": "oH36svHTOLvA"
      },
      "source": [
        "ireg_model.conv.w"
      ]
    },
    {
      "cell_type": "code",
      "metadata": {
        "id": "RhPW7ax2OLvA",
        "outputId": "1ea444ea-bcee-40b8-b6cc-6a48c3bf3995",
        "colab": {
          "base_uri": "https://localhost:8080/",
          "height": 322
        }
      },
      "source": [
        "#tvm_ireg = relay.frontend.from_keras(ireg_model)\n",
        "tvm_reg = relay.frontend.from_keras(reg_model)\n",
        "tvm_reg(ds_)"
      ],
      "execution_count": 71,
      "outputs": [
        {
          "output_type": "error",
          "ename": "AttributeError",
          "evalue": "ignored",
          "traceback": [
            "\u001b[0;31m---------------------------------------------------------------------------\u001b[0m",
            "\u001b[0;31mAttributeError\u001b[0m                            Traceback (most recent call last)",
            "\u001b[0;32m<ipython-input-71-2ef8d7de976c>\u001b[0m in \u001b[0;36m<module>\u001b[0;34m()\u001b[0m\n\u001b[1;32m      1\u001b[0m \u001b[0;31m#tvm_ireg = relay.frontend.from_keras(ireg_model)\u001b[0m\u001b[0;34m\u001b[0m\u001b[0;34m\u001b[0m\u001b[0;34m\u001b[0m\u001b[0m\n\u001b[0;32m----> 2\u001b[0;31m \u001b[0mtvm_reg\u001b[0m \u001b[0;34m=\u001b[0m \u001b[0mrelay\u001b[0m\u001b[0;34m.\u001b[0m\u001b[0mfrontend\u001b[0m\u001b[0;34m.\u001b[0m\u001b[0mfrom_keras\u001b[0m\u001b[0;34m(\u001b[0m\u001b[0mreg_model\u001b[0m\u001b[0;34m)\u001b[0m\u001b[0;34m\u001b[0m\u001b[0;34m\u001b[0m\u001b[0m\n\u001b[0m\u001b[1;32m      3\u001b[0m \u001b[0mtvm_reg\u001b[0m\u001b[0;34m(\u001b[0m\u001b[0mds_\u001b[0m\u001b[0;34m)\u001b[0m\u001b[0;34m\u001b[0m\u001b[0;34m\u001b[0m\u001b[0m\n",
            "\u001b[0;32m/tvm/python/tvm/relay/frontend/keras.py\u001b[0m in \u001b[0;36mfrom_keras\u001b[0;34m(model, shape)\u001b[0m\n\u001b[1;32m    704\u001b[0m     \u001b[0metab\u001b[0m \u001b[0;34m=\u001b[0m \u001b[0mExprTable\u001b[0m\u001b[0;34m(\u001b[0m\u001b[0;34m)\u001b[0m\u001b[0;34m\u001b[0m\u001b[0;34m\u001b[0m\u001b[0m\n\u001b[1;32m    705\u001b[0m     \u001b[0;32mfor\u001b[0m \u001b[0mkeras_layer\u001b[0m \u001b[0;32min\u001b[0m \u001b[0mmodel\u001b[0m\u001b[0;34m.\u001b[0m\u001b[0mlayers\u001b[0m\u001b[0;34m:\u001b[0m\u001b[0;34m\u001b[0m\u001b[0;34m\u001b[0m\u001b[0m\n\u001b[0;32m--> 706\u001b[0;31m         \u001b[0;32mif\u001b[0m \u001b[0misinstance\u001b[0m\u001b[0;34m(\u001b[0m\u001b[0mkeras_layer\u001b[0m\u001b[0;34m,\u001b[0m \u001b[0mkeras\u001b[0m\u001b[0;34m.\u001b[0m\u001b[0mengine\u001b[0m\u001b[0;34m.\u001b[0m\u001b[0mInputLayer\u001b[0m\u001b[0;34m)\u001b[0m\u001b[0;34m:\u001b[0m\u001b[0;34m\u001b[0m\u001b[0;34m\u001b[0m\u001b[0m\n\u001b[0m\u001b[1;32m    707\u001b[0m             \u001b[0m_convert_input_layer\u001b[0m\u001b[0;34m(\u001b[0m\u001b[0mkeras_layer\u001b[0m\u001b[0;34m)\u001b[0m\u001b[0;34m\u001b[0m\u001b[0;34m\u001b[0m\u001b[0m\n\u001b[1;32m    708\u001b[0m         \u001b[0;32melse\u001b[0m\u001b[0;34m:\u001b[0m\u001b[0;34m\u001b[0m\u001b[0;34m\u001b[0m\u001b[0m\n",
            "\u001b[0;31mAttributeError\u001b[0m: module 'keras.engine' has no attribute 'InputLayer'"
          ]
        }
      ]
    }
  ]
}